{
 "cells": [
  {
   "cell_type": "code",
   "execution_count": 2,
   "metadata": {},
   "outputs": [
    {
     "data": {
      "text/html": [
       "<div>\n",
       "<style scoped>\n",
       "    .dataframe tbody tr th:only-of-type {\n",
       "        vertical-align: middle;\n",
       "    }\n",
       "\n",
       "    .dataframe tbody tr th {\n",
       "        vertical-align: top;\n",
       "    }\n",
       "\n",
       "    .dataframe thead th {\n",
       "        text-align: right;\n",
       "    }\n",
       "</style>\n",
       "<table border=\"1\" class=\"dataframe\">\n",
       "  <thead>\n",
       "    <tr style=\"text-align: right;\">\n",
       "      <th></th>\n",
       "      <th>title</th>\n",
       "      <th>body</th>\n",
       "      <th>skills</th>\n",
       "    </tr>\n",
       "  </thead>\n",
       "  <tbody>\n",
       "    <tr>\n",
       "      <th>2</th>\n",
       "      <td>Clinical Data Scientist - San Francisco, CA</td>\n",
       "      <td>Clinical Data Scientist - San Francisco, CA\\nV...</td>\n",
       "      <td>[Work closely with the clinical and technology...</td>\n",
       "    </tr>\n",
       "    <tr>\n",
       "      <th>3</th>\n",
       "      <td>Senior Data Scientist - Philadelphia, PA 19112</td>\n",
       "      <td>Senior Data Scientist - Philadelphia, PA 19112...</td>\n",
       "      <td>[]</td>\n",
       "    </tr>\n",
       "    <tr>\n",
       "      <th>7</th>\n",
       "      <td>Tenure-Track and Tenured Faculty Positions in ...</td>\n",
       "      <td>Tenure-Track and Tenured Faculty Positions in ...</td>\n",
       "      <td>[]</td>\n",
       "    </tr>\n",
       "    <tr>\n",
       "      <th>9</th>\n",
       "      <td>Data Scientist (Full Time) - United States - S...</td>\n",
       "      <td>Data Scientist (Full Time) - United States - S...</td>\n",
       "      <td>[Acquire, clean and structure data from multip...</td>\n",
       "    </tr>\n",
       "    <tr>\n",
       "      <th>10</th>\n",
       "      <td>Data Scientist - Seattle, WA</td>\n",
       "      <td>Data Scientist - Seattle, WA\\nAbility to prese...</td>\n",
       "      <td>[Ability to present technical results to less ...</td>\n",
       "    </tr>\n",
       "  </tbody>\n",
       "</table>\n",
       "</div>"
      ],
      "text/plain": [
       "                                                title  \\\n",
       "2         Clinical Data Scientist - San Francisco, CA   \n",
       "3      Senior Data Scientist - Philadelphia, PA 19112   \n",
       "7   Tenure-Track and Tenured Faculty Positions in ...   \n",
       "9   Data Scientist (Full Time) - United States - S...   \n",
       "10                       Data Scientist - Seattle, WA   \n",
       "\n",
       "                                                 body  \\\n",
       "2   Clinical Data Scientist - San Francisco, CA\\nV...   \n",
       "3   Senior Data Scientist - Philadelphia, PA 19112...   \n",
       "7   Tenure-Track and Tenured Faculty Positions in ...   \n",
       "9   Data Scientist (Full Time) - United States - S...   \n",
       "10  Data Scientist - Seattle, WA\\nAbility to prese...   \n",
       "\n",
       "                                               skills  \n",
       "2   [Work closely with the clinical and technology...  \n",
       "3                                                  []  \n",
       "7                                                  []  \n",
       "9   [Acquire, clean and structure data from multip...  \n",
       "10  [Ability to present technical results to less ...  "
      ]
     },
     "execution_count": 2,
     "metadata": {},
     "output_type": "execute_result"
    }
   ],
   "source": [
    "import zipfile\n",
    "import glob\n",
    "import os\n",
    "import pandas as pd\n",
    "from bs4 import BeautifulSoup as bs\n",
    "\n",
    "def unzip_file(path, dest):\n",
    "    with zipfile.ZipFile(path, 'r') as unzip_file:\n",
    "        unzip_file.extractall(dest)\n",
    "\n",
    "def get_html():\n",
    "    job_dict = {'title': [], \n",
    "            'body': [], \n",
    "            'skills': []}\n",
    "\n",
    "    for html_file in glob.glob(os.path.join('data', 'html_job_postings',\n",
    "                                            \"*.html\")):\n",
    "        with open(html_file) as html_content:\n",
    "            soup = bs(html_content)\n",
    "            for file in soup:\n",
    "                title = soup.find('title')\n",
    "                job_dict['title'].append(title.text)\n",
    "            \n",
    "                body = soup.find('body')\n",
    "                job_dict['body'].append(body.text)\n",
    "            \n",
    "                skill_list = []\n",
    "                for skills in soup.find_all('li'):\n",
    "                    skill_list.append(skills.text)\n",
    "                job_dict['skills'].append(skill_list)\n",
    "    return job_dict\n",
    "    \n",
    "def clean_file(col):\n",
    "    job_dict =  get_html()\n",
    "    df = pd.DataFrame(job_dict)\n",
    "    keep = df[col].duplicated(keep=False)\n",
    "    df = df[~keep]\n",
    "    df = df.loc[df[col].str.contains('|'.join(['data scientist',\n",
    "                                               'data science']))]\n",
    "    return df\n",
    "    \n",
    "df = clean_file('body')\n",
    "df.head()"
   ]
  },
  {
   "cell_type": "code",
   "execution_count": null,
   "metadata": {},
   "outputs": [],
   "source": []
  }
 ],
 "metadata": {
  "hide_input": false,
  "kernelspec": {
   "display_name": "Python 3",
   "language": "python",
   "name": "python3"
  },
  "language_info": {
   "codemirror_mode": {
    "name": "ipython",
    "version": 3
   },
   "file_extension": ".py",
   "mimetype": "text/x-python",
   "name": "python",
   "nbconvert_exporter": "python",
   "pygments_lexer": "ipython3",
   "version": "3.7.8"
  },
  "toc": {
   "base_numbering": 1,
   "nav_menu": {},
   "number_sections": true,
   "sideBar": true,
   "skip_h1_title": false,
   "title_cell": "Table of Contents",
   "title_sidebar": "Contents",
   "toc_cell": false,
   "toc_position": {},
   "toc_section_display": true,
   "toc_window_display": false
  },
  "varInspector": {
   "cols": {
    "lenName": 16,
    "lenType": 16,
    "lenVar": 40
   },
   "kernels_config": {
    "python": {
     "delete_cmd_postfix": "",
     "delete_cmd_prefix": "del ",
     "library": "var_list.py",
     "varRefreshCmd": "print(var_dic_list())"
    },
    "r": {
     "delete_cmd_postfix": ") ",
     "delete_cmd_prefix": "rm(",
     "library": "var_list.r",
     "varRefreshCmd": "cat(var_dic_list()) "
    }
   },
   "types_to_exclude": [
    "module",
    "function",
    "builtin_function_or_method",
    "instance",
    "_Feature"
   ],
   "window_display": false
  }
 },
 "nbformat": 4,
 "nbformat_minor": 4
}
