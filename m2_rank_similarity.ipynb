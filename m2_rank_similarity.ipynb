{
 "cells": [
  {
   "cell_type": "code",
   "execution_count": 1,
   "metadata": {},
   "outputs": [],
   "source": [
    "import numpy as np\n",
    "import pandas as pd\n",
    "from sklearn.feature_extraction.text import TfidfVectorizer\n",
    "\n",
    "def load_text(path):\n",
    "    with open(path, 'r') as file:\n",
    "        data = file.read()\n",
    "    return data\n",
    "\n",
    "def load_pickle(path):\n",
    "    df = pd.read_pickle(path)\n",
    "    return df\n",
    "\n",
    "def process_df(df, col, resume):\n",
    "    df = df.append({col:resume}, ignore_index=True)\n",
    "    df[col] = df[col].apply(lambda x: \"\".join(x))\n",
    "    return df\n",
    "\n",
    "def tfidf_conversion(df, col):\n",
    "    vectorizer = TfidfVectorizer(stop_words='english')\n",
    "    tfidf_matrix = vectorizer.fit_transform(df[col])\n",
    "    tfidf_np_matrix = tfidf_matrix.toarray()\n",
    "    return tfidf_np_matrix\n",
    "\n",
    "def cosine_similarity(df, col, tfidf_mat):\n",
    "    df[col] = tfidf_mat @ tfidf_mat[df.index[-1]]\n",
    "    df = df.sort_values(col, ascending = False)\n",
    "    df = df.iloc[1:, :]\n",
    "    return df\n",
    "\n",
    "def pickle_data(df, path):\n",
    "    df.to_pickle(path)"
   ]
  },
  {
   "cell_type": "code",
   "execution_count": 2,
   "metadata": {},
   "outputs": [],
   "source": [
    "resume = load_text('data/Liveproject Resume.txt')\n",
    "df = load_pickle('output/step1_df.pk')\n",
    "df = process_df(df, 'skills', resume)\n",
    "tfidf_mat = tfidf_conversion(df, 'skills')\n",
    "df_sim = cosine_similarity(df, 'cosine', tfidf_mat)\n",
    "df_new = df_sim[:10]\n",
    "pickle_data(df_new, 'output/step2_df.pk')"
   ]
  }
 ],
 "metadata": {
  "hide_input": false,
  "kernelspec": {
   "display_name": "Python 3",
   "language": "python",
   "name": "python3"
  },
  "language_info": {
   "codemirror_mode": {
    "name": "ipython",
    "version": 3
   },
   "file_extension": ".py",
   "mimetype": "text/x-python",
   "name": "python",
   "nbconvert_exporter": "python",
   "pygments_lexer": "ipython3",
   "version": "3.7.8"
  },
  "toc": {
   "base_numbering": 1,
   "nav_menu": {},
   "number_sections": true,
   "sideBar": true,
   "skip_h1_title": false,
   "title_cell": "Table of Contents",
   "title_sidebar": "Contents",
   "toc_cell": false,
   "toc_position": {},
   "toc_section_display": true,
   "toc_window_display": false
  },
  "varInspector": {
   "cols": {
    "lenName": 16,
    "lenType": 16,
    "lenVar": 40
   },
   "kernels_config": {
    "python": {
     "delete_cmd_postfix": "",
     "delete_cmd_prefix": "del ",
     "library": "var_list.py",
     "varRefreshCmd": "print(var_dic_list())"
    },
    "r": {
     "delete_cmd_postfix": ") ",
     "delete_cmd_prefix": "rm(",
     "library": "var_list.r",
     "varRefreshCmd": "cat(var_dic_list()) "
    }
   },
   "types_to_exclude": [
    "module",
    "function",
    "builtin_function_or_method",
    "instance",
    "_Feature"
   ],
   "window_display": false
  }
 },
 "nbformat": 4,
 "nbformat_minor": 4
}
